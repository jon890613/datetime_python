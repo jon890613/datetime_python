{
  "nbformat": 4,
  "nbformat_minor": 0,
  "metadata": {
    "colab": {
      "name": "datetime.ipynb",
      "provenance": [],
      "collapsed_sections": [],
      "authorship_tag": "ABX9TyNz40F1Vw84eSL/Vu2x7t4C",
      "include_colab_link": true
    },
    "kernelspec": {
      "name": "python3",
      "display_name": "Python 3"
    },
    "language_info": {
      "name": "python"
    }
  },
  "cells": [
    {
      "cell_type": "markdown",
      "metadata": {
        "id": "view-in-github",
        "colab_type": "text"
      },
      "source": [
        "<a href=\"https://colab.research.google.com/github/jon890613/datetime_python/blob/main/datetime.ipynb\" target=\"_parent\"><img src=\"https://colab.research.google.com/assets/colab-badge.svg\" alt=\"Open In Colab\"/></a>"
      ]
    },
    {
      "cell_type": "code",
      "metadata": {
        "id": "yfUnde8EzbnN"
      },
      "source": [
        "from datetime import datetime\n",
        "import pandas as pd #匯入pandas 並把名稱改成pd\n",
        "import numpy as np\n"
      ],
      "execution_count": 3,
      "outputs": []
    },
    {
      "cell_type": "markdown",
      "metadata": {
        "id": "SR6ANqZI1yVs"
      },
      "source": [
        "# 建立日期、時間日期型態"
      ]
    },
    {
      "cell_type": "code",
      "metadata": {
        "colab": {
          "base_uri": "https://localhost:8080/"
        },
        "id": "3vDoMYmCziej",
        "outputId": "b3bb8840-eca8-45f3-a1d4-697dbd59db9b"
      },
      "source": [
        "now = datetime.now()\n",
        "print(now,end='  ')\n",
        "print(\"type-> %s\" % type(now))"
      ],
      "execution_count": null,
      "outputs": [
        {
          "output_type": "stream",
          "text": [
            "2021-04-14 14:39:19.700199  type-> <class 'datetime.datetime'>\n"
          ],
          "name": "stdout"
        }
      ]
    },
    {
      "cell_type": "code",
      "metadata": {
        "colab": {
          "base_uri": "https://localhost:8080/"
        },
        "id": "YQvG3pBJzqrA",
        "outputId": "c0d47e54-3348-4098-cc9d-f6f7d0ca0a00"
      },
      "source": [
        "print('year:',now.year)\n",
        "print('month:',now.month)\n",
        "print('day:',now.day)"
      ],
      "execution_count": null,
      "outputs": [
        {
          "output_type": "stream",
          "text": [
            "year: 2021\n",
            "month: 4\n",
            "day: 14\n"
          ],
          "name": "stdout"
        }
      ]
    },
    {
      "cell_type": "markdown",
      "metadata": {
        "id": "F95bgt-t1qpU"
      },
      "source": [
        "# 字串與時間日期轉換"
      ]
    },
    {
      "cell_type": "code",
      "metadata": {
        "colab": {
          "base_uri": "https://localhost:8080/"
        },
        "id": "QmsCwH8p09h9",
        "outputId": "7b3b2e82-5dbf-45ba-eba0-88bf07632bd9"
      },
      "source": [
        "stamp = datetime(2011, 1, 3)\n",
        "print(stamp,type(stamp))\n",
        "\n",
        "# 時間轉換成字串 方法一\n",
        "str_stamp = str(stamp)\n",
        "print(str_stamp, type(str_stamp))\n",
        "\n",
        "# 時間轉換成字串 方法二\n",
        "# 可以自訂時間格式\n",
        "str_stamp = stamp.strftime('%Y-%m-%d')\n",
        "print(str_stamp, type(str_stamp))"
      ],
      "execution_count": null,
      "outputs": [
        {
          "output_type": "stream",
          "text": [
            "2011-01-03 00:00:00 <class 'datetime.datetime'>\n",
            "2011-01-03 00:00:00 <class 'str'>\n",
            "2011-01-03 <class 'str'>\n"
          ],
          "name": "stdout"
        }
      ]
    },
    {
      "cell_type": "code",
      "metadata": {
        "colab": {
          "base_uri": "https://localhost:8080/"
        },
        "id": "ENcO5Ybj1P37",
        "outputId": "8f6b7afe-bafe-4c63-f3d5-12c30f18db37"
      },
      "source": [
        "# 字串轉換成時間格式\n",
        "value = '2011-01-03'\n",
        "datetime_value = datetime.strptime(value, \"%Y-%m-%d\")\n",
        "print(datetime_value, type(datetime_value))"
      ],
      "execution_count": null,
      "outputs": [
        {
          "output_type": "stream",
          "text": [
            "2011-01-03 00:00:00 <class 'datetime.datetime'>\n"
          ],
          "name": "stdout"
        }
      ]
    },
    {
      "cell_type": "code",
      "metadata": {
        "colab": {
          "base_uri": "https://localhost:8080/"
        },
        "id": "vkOK7Cma57xW",
        "outputId": "0856e16c-5747-48b2-b372-4ba85d165727"
      },
      "source": [
        "date_strs = ['6/7/2011', '8/6/2011']\n",
        "datetime_date = [datetime.strptime(x, \"%m/%d/%Y\") for x in date_strs]\n",
        "print(datetime_date)"
      ],
      "execution_count": null,
      "outputs": [
        {
          "output_type": "stream",
          "text": [
            "[datetime.datetime(2011, 6, 7, 0, 0), datetime.datetime(2011, 8, 6, 0, 0)]\n"
          ],
          "name": "stdout"
        }
      ]
    },
    {
      "cell_type": "markdown",
      "metadata": {
        "id": "hx187vSv-A1T"
      },
      "source": [
        "利用**dateutil**快速拆解日期"
      ]
    },
    {
      "cell_type": "code",
      "metadata": {
        "id": "WjUpD3ei65g6"
      },
      "source": [
        "from dateutil.parser import parse"
      ],
      "execution_count": null,
      "outputs": []
    },
    {
      "cell_type": "code",
      "metadata": {
        "colab": {
          "base_uri": "https://localhost:8080/"
        },
        "id": "soDHvTr47Rji",
        "outputId": "d20cf6a9-de04-4ab4-94fb-4a6a100fe6c1"
      },
      "source": [
        "parse('2011-01-03')\n"
      ],
      "execution_count": null,
      "outputs": [
        {
          "output_type": "execute_result",
          "data": {
            "text/plain": [
              "datetime.datetime(2011, 1, 3, 0, 0)"
            ]
          },
          "metadata": {
            "tags": []
          },
          "execution_count": 40
        }
      ]
    },
    {
      "cell_type": "code",
      "metadata": {
        "colab": {
          "base_uri": "https://localhost:8080/"
        },
        "id": "5MlLRVr37f5v",
        "outputId": "24346651-0fc7-40fc-a76a-11b8d3597d61"
      },
      "source": [
        "parse('Jan 31, 1997, 10:45 PM')"
      ],
      "execution_count": null,
      "outputs": [
        {
          "output_type": "execute_result",
          "data": {
            "text/plain": [
              "datetime.datetime(1997, 1, 31, 22, 45)"
            ]
          },
          "metadata": {
            "tags": []
          },
          "execution_count": 46
        }
      ]
    },
    {
      "cell_type": "markdown",
      "metadata": {
        "id": "raHle-HM9xav"
      },
      "source": [
        "日期寫在前面的情況"
      ]
    },
    {
      "cell_type": "code",
      "metadata": {
        "colab": {
          "base_uri": "https://localhost:8080/"
        },
        "id": "kR5Ipde07_gT",
        "outputId": "0cd4e2d0-1c10-41cb-cbf5-3456b5a3d120"
      },
      "source": [
        "parse('6/13/2000', dayfirst=True)"
      ],
      "execution_count": null,
      "outputs": [
        {
          "output_type": "execute_result",
          "data": {
            "text/plain": [
              "datetime.datetime(2000, 6, 13, 0, 0)"
            ]
          },
          "metadata": {
            "tags": []
          },
          "execution_count": 47
        }
      ]
    },
    {
      "cell_type": "markdown",
      "metadata": {
        "id": "KpPOwMmb90xz"
      },
      "source": [
        "利用pandas將時間格式當index或是DataFrame中的一欄 **to_datetime** "
      ]
    },
    {
      "cell_type": "code",
      "metadata": {
        "colab": {
          "base_uri": "https://localhost:8080/"
        },
        "id": "fD1R66Y78dJE",
        "outputId": "6316bd61-af4a-4293-dc4c-d5b7cfbb002a"
      },
      "source": [
        "date_strs = ['2011-07-06 12:00:00', '2011-08-06 00:00:00']\n",
        "pd.to_datetime(date_strs)"
      ],
      "execution_count": null,
      "outputs": [
        {
          "output_type": "execute_result",
          "data": {
            "text/plain": [
              "DatetimeIndex(['2011-07-06 12:00:00', '2011-08-06 00:00:00'], dtype='datetime64[ns]', freq=None)"
            ]
          },
          "metadata": {
            "tags": []
          },
          "execution_count": 57
        }
      ]
    },
    {
      "cell_type": "code",
      "metadata": {
        "colab": {
          "base_uri": "https://localhost:8080/"
        },
        "id": "8HAfqvm79klt",
        "outputId": "847a29df-0695-4c5a-b422-05c1980fb6b2"
      },
      "source": [
        "idx = pd.to_datetime(date_strs + [None])\n",
        "idx"
      ],
      "execution_count": null,
      "outputs": [
        {
          "output_type": "execute_result",
          "data": {
            "text/plain": [
              "DatetimeIndex(['2011-07-06 12:00:00', '2011-08-06 00:00:00', 'NaT'], dtype='datetime64[ns]', freq=None)"
            ]
          },
          "metadata": {
            "tags": []
          },
          "execution_count": 62
        }
      ]
    },
    {
      "cell_type": "code",
      "metadata": {
        "colab": {
          "base_uri": "https://localhost:8080/"
        },
        "id": "cJHwyd539kjK",
        "outputId": "934f2c35-9364-4e8d-853a-85cda4e71687"
      },
      "source": [
        "idx[2]  # NaT = Not a Time"
      ],
      "execution_count": null,
      "outputs": [
        {
          "output_type": "execute_result",
          "data": {
            "text/plain": [
              "NaT"
            ]
          },
          "metadata": {
            "tags": []
          },
          "execution_count": 63
        }
      ]
    },
    {
      "cell_type": "code",
      "metadata": {
        "colab": {
          "base_uri": "https://localhost:8080/"
        },
        "id": "5znlt7ST_wgc",
        "outputId": "3076ccb7-a2bf-420b-dfec-beb818f757b9"
      },
      "source": [
        "pd.isnull(idx) #查看是否含有None值"
      ],
      "execution_count": null,
      "outputs": [
        {
          "output_type": "execute_result",
          "data": {
            "text/plain": [
              "array([False, False,  True])"
            ]
          },
          "metadata": {
            "tags": []
          },
          "execution_count": 64
        }
      ]
    },
    {
      "cell_type": "markdown",
      "metadata": {
        "id": "THhk9C4ore2-"
      },
      "source": [
        "# 時間序列基本概念"
      ]
    },
    {
      "cell_type": "code",
      "metadata": {
        "id": "Cdhvmtbu_2kH",
        "colab": {
          "base_uri": "https://localhost:8080/"
        },
        "outputId": "0b49ba78-2137-4e3d-a01b-35daef97d446"
      },
      "source": [
        " dates = [datetime(2011, 1, 2), datetime(2011, 1, 5), datetime(2011, 1, 7), datetime(2011, 1, 8), datetime(2011, 1, 10), datetime(2011, 1, 12)]\n",
        " ts = pd.Series(np.random.randn(6), index=dates)\n",
        " print(ts)"
      ],
      "execution_count": 5,
      "outputs": [
        {
          "output_type": "stream",
          "text": [
            "2011-01-02   -0.021651\n",
            "2011-01-05    0.440581\n",
            "2011-01-07   -0.148570\n",
            "2011-01-08    1.131599\n",
            "2011-01-10   -0.433984\n",
            "2011-01-12   -0.322276\n",
            "dtype: float64\n"
          ],
          "name": "stdout"
        }
      ]
    },
    {
      "cell_type": "code",
      "metadata": {
        "colab": {
          "base_uri": "https://localhost:8080/"
        },
        "id": "sy63pV6Tsn2H",
        "outputId": "70236edc-50c0-4b61-afcb-edfe47569e08"
      },
      "source": [
        "ts.index"
      ],
      "execution_count": 6,
      "outputs": [
        {
          "output_type": "execute_result",
          "data": {
            "text/plain": [
              "DatetimeIndex(['2011-01-02', '2011-01-05', '2011-01-07', '2011-01-08',\n",
              "               '2011-01-10', '2011-01-12'],\n",
              "              dtype='datetime64[ns]', freq=None)"
            ]
          },
          "metadata": {
            "tags": []
          },
          "execution_count": 6
        }
      ]
    },
    {
      "cell_type": "code",
      "metadata": {
        "id": "uXOsPzMGspiI"
      },
      "source": [
        ""
      ],
      "execution_count": null,
      "outputs": []
    }
  ]
}